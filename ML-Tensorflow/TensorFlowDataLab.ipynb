{
 "cells": [
  {
   "cell_type": "markdown",
   "metadata": {},
   "source": [
    "# TensorFlow Lab "
   ]
  },
  {
   "cell_type": "markdown",
   "metadata": {},
   "source": [
    "## First model Linear regression"
   ]
  },
  {
   "cell_type": "markdown",
   "metadata": {},
   "source": [
    "### Configuration code"
   ]
  },
  {
   "cell_type": "code",
   "execution_count": 16,
   "metadata": {
    "collapsed": true
   },
   "outputs": [],
   "source": [
    "import numpy as np\n",
    "import numpy.random as rnd\n",
    "import os\n",
    "\n",
    "# to make this notebook's output stable across runs\n",
    "rnd.seed(42)\n",
    "\n",
    "# To plot pretty figures\n",
    "%matplotlib inline\n",
    "import matplotlib\n",
    "import matplotlib.pyplot as plt\n",
    "\n",
    "\n",
    "import tensorflow as tf\n",
    "\n",
    "\n"
   ]
  },
  {
   "cell_type": "markdown",
   "metadata": {},
   "source": [
    "## Create random dataset\n",
    "### Simple random linear dataset\n",
    "### $y = \\theta_0 + \\theta_1 * x + noise$\n",
    "### $noise = \\mathcal{N}(0,20)$\n"
   ]
  },
  {
   "cell_type": "code",
   "execution_count": 12,
   "metadata": {},
   "outputs": [
    {
     "name": "stdout",
     "output_type": "stream",
     "text": [
      "[ 164.00985701  185.92896419  -10.60049443   67.64507394  160.86144947\n",
      "    4.71297164  124.31549022  124.47665842  -12.82606994   60.13107217\n",
      "   83.5063666    78.74169207  170.17191158   70.58635363  134.26752258\n",
      "   63.25561854  127.4412032    56.93585965  182.09223768  179.92527671\n",
      "  101.20971141  166.6837943    17.45796581   53.8230395    68.53381599\n",
      "  119.54366498  103.26003784  220.07068154   77.70686334  209.40338333\n",
      "  155.51334696  113.85684887   97.58215004  156.6494483    86.53074429\n",
      "   53.28000988   28.46475249  141.54342175  118.06412564   92.70305551\n",
      "   30.06970096   92.12797589  131.28187488  -21.91477557   22.46361852\n",
      "  186.70634759   -2.67714872   66.07450212   96.16417437   40.14059404\n",
      "   14.15574721  206.21569053  132.66102486  148.07604104   79.44661264\n",
      "   60.2434992   105.30070534   57.27571902  209.30095373  216.05462981\n",
      "  142.41781021  153.7113128   190.08003527  160.02782503   40.69461511\n",
      "   26.17938441  -12.45650429  126.26362787  149.29272904   40.63748279\n",
      "  217.29317133  137.65469615  128.72520381   18.74568258   37.56136268\n",
      "  144.77901194  184.28560038  -14.55489556  184.69392581  152.59195498\n",
      "   76.39266737   71.32917179  103.9114368    17.96799305  157.87888179\n",
      "  115.67838045   -1.50285173  106.7290863   121.7642707   180.0486667\n",
      "   11.14958523   12.70527117  209.09974558  196.31510388   18.99407186\n",
      "  108.30997528  133.50109378   85.93341535  118.30908481  151.09963422]\n"
     ]
    }
   ],
   "source": [
    "# create dataset\n",
    "noise = np.random.normal(0, 20, 100)\n",
    "X = np.random.randint(0, high=50, size=100)\n",
    "init_theta0 = 3\n",
    "initial_theta1 = 4\n",
    "Y = initial_theta0 + initial_theta1*X + noise\n",
    "\n",
    "print Y\n"
   ]
  },
  {
   "cell_type": "code",
   "execution_count": 13,
   "metadata": {},
   "outputs": [
    {
     "data": {
      "text/plain": [
       "[<matplotlib.lines.Line2D at 0x7f7f9ddde190>]"
      ]
     },
     "execution_count": 13,
     "metadata": {},
     "output_type": "execute_result"
    },
    {
     "data": {
      "image/png": "[encoded data removed]",
      "text/plain": [
       "<matplotlib.figure.Figure at 0x7f7f9de404d0>"
      ]
     },
     "metadata": {},
     "output_type": "display_data"
    }
   ],
   "source": [
    "plt.plot(X,Y,\"ro\")"
   ]
  },
  {
   "cell_type": "markdown",
   "metadata": {},
   "source": [
    "## 1- Start with tf.learn API "
   ]
  },
  {
   "cell_type": "code",
   "execution_count": 39,
   "metadata": {},
   "outputs": [
    {
     "name": "stdout",
     "output_type": "stream",
     "text": [
      "WARNING:tensorflow:Using temporary folder as model directory: /tmp/tmpQFST7V\n",
      "INFO:tensorflow:Using default config.\n",
      "INFO:tensorflow:Using config: {'_save_checkpoints_secs': 600, '_num_ps_replicas': 0, '_keep_checkpoint_max': 5, '_tf_random_seed': None, '_task_type': None, '_environment': 'local', '_is_chief': True, '_cluster_spec': <tensorflow.python.training.server_lib.ClusterSpec object at 0x7f7f8c190790>, '_tf_config': gpu_options {\n",
      "  per_process_gpu_memory_fraction: 1\n",
      "}\n",
      ", '_task_id': 0, '_save_summary_steps': 100, '_save_checkpoints_steps': None, '_evaluation_master': '', '_keep_checkpoint_every_n_hours': 10000, '_master': ''}\n",
      "WARNING:tensorflow:Rank of input Tensor (1) should be the same as output_rank (2) for column. Will attempt to expand dims. It is highly recommended that you resize your input, as this behavior may change.\n",
      "WARNING:tensorflow:From /opt/conda/envs/python2/lib/python2.7/site-packages/tensorflow/contrib/learn/python/learn/estimators/head.py:1362: scalar_summary (from tensorflow.python.ops.logging_ops) is deprecated and will be removed after 2016-11-30.\n",
      "Instructions for updating:\n",
      "Please switch to tf.summary.scalar. Note that tf.summary.scalar uses the node name instead of the tag. This means that TensorFlow will automatically de-duplicate summary names based on the scope they are created in. Also, passing a tensor or list of tags to a scalar summary op is no longer supported.\n",
      "INFO:tensorflow:Create CheckpointSaverHook.\n",
      "INFO:tensorflow:Saving checkpoints for 1 into /tmp/tmpQFST7V/model.ckpt.\n",
      "INFO:tensorflow:loss = 14705.2, step = 1\n",
      "INFO:tensorflow:Saving checkpoints for 100 into /tmp/tmpQFST7V/model.ckpt.\n",
      "INFO:tensorflow:Loss for final step: 1606.89.\n",
      "WARNING:tensorflow:Rank of input Tensor (1) should be the same as output_rank (2) for column. Will attempt to expand dims. It is highly recommended that you resize your input, as this behavior may change.\n"
     ]
    },
    {
     "data": {
      "text/plain": [
       "[61.439739, 149.24231]"
      ]
     },
     "execution_count": 39,
     "metadata": {},
     "output_type": "execute_result"
    }
   ],
   "source": [
    "#Define input feature columns\n",
    "feature_columns = [tf.contrib.layers.real_valued_column(\"x_\")]\n",
    " \n",
    "#Instantiate Linear Regression Model \n",
    "estimator = tf.contrib.learn.LinearRegressor(feature_columns=feature_columns)\n",
    "\n",
    "#Train input function\n",
    "def input_fn_train(x,y):\n",
    "    feature_data = {\"x_\": tf.constant(x)} \n",
    "    label_data = tf.constant(y)\n",
    "    return feature_data, label_data\n",
    "\n",
    "estimator.fit(input_fn=lambda: input_fn_train(X,Y), steps=100)\n",
    "\n",
    "#Predict input fucntion\n",
    "def input_fn_pred():\n",
    "    feature_data = {\"x_\": tf.constant([20,50])}\n",
    "    return feature_data \n",
    "list(estimator.predict(input_fn=input_fn_pred))"
   ]
  },
  {
   "cell_type": "code",
   "execution_count": 41,
   "metadata": {},
   "outputs": [
    {
     "data": {
      "text/plain": [
       "[<matplotlib.lines.Line2D at 0x7f7f76644210>]"
      ]
     },
     "execution_count": 41,
     "metadata": {},
     "output_type": "execute_result"
    },
    {
     "data": {
      "image/png": "[encoded data removed]",
      "text/plain": [
       "<matplotlib.figure.Figure at 0x7f7f8ed2af90>"
      ]
     },
     "metadata": {},
     "output_type": "display_data"
    }
   ],
   "source": [
    "# Get model parameter\n",
    "\n",
    "tetha0 = estimator.get_variable_value(\"linear/bias_weight\")[0]\n",
    "tetha1 = estimator.get_variable_value(\"linear/x_/weight\")[0][0]\n",
    "\n",
    "#Plot Data\n",
    "plt.plot(X,Y,\"ro\")\n",
    "\n",
    "#plot model \n",
    "X_axis=np.linspace(0, 50, 1000)\n",
    "plt.plot(X, tetha0 + tetha1 *X, \"b\")\n"
   ]
  },
  {
   "cell_type": "markdown",
   "metadata": {},
   "source": [
    "## 2- Normal equation\n",
    "### Normal equation can resolve linear regression problem\n",
    "### $optimumParameter = (X^T.X)^1.X^T.Y$\n",
    "### Where X is a parameter matrix and Y is the corresponding result matrix\n"
   ]
  },
  {
   "cell_type": "code",
   "execution_count": 29,
   "metadata": {},
   "outputs": [],
   "source": [
    "# For normal equation we add bias column into our data in order to simulate the theta0 parameter\n",
    "X_bias = np.c_[np.ones((X.shape[0], 1)), X]\n"
   ]
  },
  {
   "cell_type": "code",
   "execution_count": 31,
   "metadata": {},
   "outputs": [
    {
     "name": "stdout",
     "output_type": "stream",
     "text": [
      "[[-2.89918954]\n",
      " [ 4.33885992]]\n"
     ]
    }
   ],
   "source": [
    "# Clean workspace\n",
    "tf.reset_default_graph()\n",
    "\n",
    "# Create our node in Tensorflow\n",
    "X_normal = tf.constant(X_bias, dtype=tf.float64, name=\"X_normal\")\n",
    "y_normal = tf.constant(Y.reshape(-1, 1), dtype=tf.float64, name=\"y_normal\")\n",
    "XT = tf.transpose(X_normal)\n",
    "\n",
    "# Create graph to compute Normal Equation\n",
    "theta = tf.matmul(tf.matmul(tf.matrix_inverse(tf.matmul(XT, X_normal)), XT), y_normal)\n",
    "\n",
    "# Launch graph and get result\n",
    "with tf.Session() as sess:\n",
    "    result = theta.eval()\n",
    "\n",
    "print(result)\n",
    "\n",
    "\n"
   ]
  },
  {
   "cell_type": "code",
   "execution_count": 35,
   "metadata": {},
   "outputs": [
    {
     "data": {
      "text/plain": [
       "[<matplotlib.lines.Line2D at 0x7f7f8f69bd10>]"
      ]
     },
     "execution_count": 35,
     "metadata": {},
     "output_type": "execute_result"
    },
    {
     "data": {
      "image/png": "[encoded data removed]",
      "text/plain": [
       "<matplotlib.figure.Figure at 0x7f7f8f69b0d0>"
      ]
     },
     "metadata": {},
     "output_type": "display_data"
    }
   ],
   "source": [
    "# Get model parameter\n",
    "\n",
    "tetha0_normal = result[0]\n",
    "tetha1_normal = result[1]\n",
    "\n",
    "#Plot Data\n",
    "plt.plot(X,Y,\"ro\")\n",
    "\n",
    "#plot model \n",
    "X_axis=np.linspace(0, 50, 1000)\n",
    "plt.plot(X, tetha0_normal + tetha1_normal *X, \"b\")\n"
   ]
  },
  {
   "cell_type": "code",
   "execution_count": null,
   "metadata": {
    "collapsed": true
   },
   "outputs": [],
   "source": []
  }
 ],
 "metadata": {
  "kernelspec": {
   "display_name": "Python 2",
   "language": "python",
   "name": "python2"
  },
  "language_info": {
   "codemirror_mode": {
    "name": "ipython",
    "version": 2
   },
   "file_extension": ".py",
   "mimetype": "text/x-python",
   "name": "python",
   "nbconvert_exporter": "python",
   "pygments_lexer": "ipython2",
   "version": "2.7.13"
  }
 },
 "nbformat": 4,
 "nbformat_minor": 2
}

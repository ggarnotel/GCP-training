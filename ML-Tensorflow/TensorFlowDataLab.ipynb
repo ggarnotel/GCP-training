{
 "cells": [
  {
   "cell_type": "markdown",
   "metadata": {},
   "source": [
    "# TensorFlow Lab "
   ]
  },
  {
   "cell_type": "markdown",
   "metadata": {},
   "source": [
    "## First model Linear regression"
   ]
  },
  {
   "cell_type": "markdown",
   "metadata": {},
   "source": [
    "### Configuration code"
   ]
  },
  {
   "cell_type": "code",
   "execution_count": null,
   "metadata": {
    "collapsed": true
   },
   "outputs": [],
   "source": [
    "import numpy as np\n",
    "import numpy.random as rnd\n",
    "import os\n",
    "\n",
    "# to make this notebook's output stable across runs\n",
    "rnd.seed(42)\n",
    "\n",
    "# To plot pretty figures\n",
    "%matplotlib inline\n",
    "import matplotlib\n",
    "import matplotlib.pyplot as plt\n",
    "\n",
    "\n",
    "import tensorflow as tf\n",
    "\n",
    "\n"
   ]
  },
  {
   "cell_type": "markdown",
   "metadata": {},
   "source": [
    "## Create random dataset\n",
    "### Simple random linear dataset\n",
    "### $y = \\theta_0 + \\theta_1 * x + noise$\n",
    "### $noise = \\mathcal{N}(0,20)$\n"
   ]
  },
  {
   "cell_type": "code",
   "execution_count": null,
   "metadata": {},
   "outputs": [],
   "source": [
    "# create dataset\n",
    "noise = np.random.normal(0, 20, 100)\n",
    "X = np.random.randint(0, high=50, size=100)\n",
    "initial_theta0 = 3\n",
    "initial_theta1 = 4\n",
    "Y = initial_theta0 + initial_theta1*X + noise\n",
    "\n",
    "print Y\n"
   ]
  },
  {
   "cell_type": "code",
   "execution_count": null,
   "metadata": {},
   "outputs": [],
   "source": [
    "plt.plot(X,Y,\"ro\")"
   ]
  },
  {
   "cell_type": "markdown",
   "metadata": {},
   "source": [
    "## 1- Start with tf.learn API "
   ]
  },
  {
   "cell_type": "code",
   "execution_count": null,
   "metadata": {},
   "outputs": [],
   "source": [
    "#Define input feature columns\n",
    "feature_columns = [tf.contrib.layers.real_valued_column(\"x_\")]\n",
    " \n",
    "#Instantiate Linear Regression Model \n",
    "estimator = tf.contrib.learn.LinearRegressor(feature_columns=feature_columns,\n",
    "                                             optimizer=tf.train.FtrlOptimizer(learning_rate=5.0))\n",
    "\n",
    "#Train input function\n",
    "def input_fn_train(x,y):\n",
    "    feature_data = {\"x_\": tf.constant(X)} \n",
    "    label_data = tf.constant(y.reshape(-1, 1))\n",
    "    return feature_data, label_data\n",
    "\n",
    "estimator.fit(input_fn=lambda: input_fn_train(X,Y), steps=100)\n",
    "\n",
    "#Predict input fucntion\n",
    "def input_fn_pred():\n",
    "    feature_data = {\"x_\": tf.constant([20,50])}\n",
    "    return feature_data \n",
    "list(estimator.predict(input_fn=input_fn_pred))"
   ]
  },
  {
   "cell_type": "code",
   "execution_count": null,
   "metadata": {},
   "outputs": [],
   "source": [
    "# Get model parameter\n",
    "\n",
    "tetha0 = estimator.get_variable_value(\"linear/bias_weight\")[0]\n",
    "tetha1 = estimator.get_variable_value(\"linear/x_/weight\")[0][0]\n",
    "\n",
    "#Plot Data\n",
    "plt.plot(X,Y,\"ro\")\n",
    "\n",
    "#plot model \n",
    "X_axis=np.linspace(0, 50, 1000)\n",
    "plt.plot(X, tetha0 + tetha1 *X, \"b\")\n"
   ]
  },
  {
   "cell_type": "markdown",
   "metadata": {},
   "source": [
    "## 2- Normal equation\n",
    "### Normal equation can resolve linear regression problem\n",
    "### $optimumParameter = (X^T.X)^1.X^T.Y$\n",
    "### Where X is a input data matrix and Y is the corresponding result matrix\n"
   ]
  },
  {
   "cell_type": "code",
   "execution_count": null,
   "metadata": {
    "collapsed": true
   },
   "outputs": [],
   "source": [
    "# For normal equation we add bias column into our data in order to simulate the theta0 parameter\n",
    "X_bias = np.c_[np.ones((X.shape[0], 1)), X]\n"
   ]
  },
  {
   "cell_type": "code",
   "execution_count": null,
   "metadata": {},
   "outputs": [],
   "source": [
    "# Clean workspace\n",
    "tf.reset_default_graph()\n",
    "\n",
    "# Create our node in Tensorflow\n",
    "X_normal = tf.constant(X_bias, dtype=tf.float64, name=\"X_normal\")\n",
    "y_normal = tf.constant(Y.reshape(-1, 1), dtype=tf.float64, name=\"y_normal\")\n",
    "XT = tf.transpose(X_normal)\n",
    "\n",
    "# Create graph to compute Normal Equation\n",
    "theta = tf.matmul(tf.matmul(tf.matrix_inverse(tf.matmul(XT, X_normal)), XT), y_normal)\n",
    "\n",
    "# Launch graph and get result\n",
    "with tf.Session() as sess:\n",
    "    result = theta.eval()\n",
    "\n",
    "print(result)\n",
    "\n",
    "\n"
   ]
  },
  {
   "cell_type": "code",
   "execution_count": null,
   "metadata": {},
   "outputs": [],
   "source": [
    "# Get model parameter\n",
    "\n",
    "tetha0_normal = result[0]\n",
    "tetha1_normal = result[1]\n",
    "\n",
    "#Plot Data\n",
    "plt.plot(X,Y,\"ro\")\n",
    "\n",
    "#plot model \n",
    "X_axis=np.linspace(0, 50, 1000)\n",
    "plt.plot(X, tetha0_normal + tetha1_normal *X, \"b\")\n"
   ]
  },
  {
   "cell_type": "code",
   "execution_count": null,
   "metadata": {
    "collapsed": true
   },
   "outputs": [],
   "source": []
  }
 ],
 "metadata": {
  "kernelspec": {
   "display_name": "Python 2",
   "language": "python",
   "name": "python2"
  },
  "language_info": {
   "codemirror_mode": {
    "name": "ipython",
    "version": 2
   },
   "file_extension": ".py",
   "mimetype": "text/x-python",
   "name": "python",
   "nbconvert_exporter": "python",
   "pygments_lexer": "ipython2",
   "version": "2.7.13"
  }
 },
 "nbformat": 4,
 "nbformat_minor": 2
}

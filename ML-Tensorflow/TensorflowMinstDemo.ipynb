{
 "cells": [
  {
   "cell_type": "code",
   "execution_count": 1,
   "metadata": {},
   "outputs": [
    {
     "name": "stdout",
     "output_type": "stream",
     "text": [
      "Successfully downloaded train-images-idx3-ubyte.gz 9912422 bytes.\n",
      "Extracting MNIST_data/train-images-idx3-ubyte.gz\n",
      "Successfully downloaded train-labels-idx1-ubyte.gz 28881 bytes.\n",
      "Extracting MNIST_data/train-labels-idx1-ubyte.gz\n",
      "Successfully downloaded t10k-images-idx3-ubyte.gz 1648877 bytes.\n",
      "Extracting MNIST_data/t10k-images-idx3-ubyte.gz\n",
      "Successfully downloaded t10k-labels-idx1-ubyte.gz 4542 bytes.\n",
      "Extracting MNIST_data/t10k-labels-idx1-ubyte.gz\n"
     ]
    }
   ],
   "source": [
    "from tensorflow.examples.tutorials.mnist import input_data\n",
    "mnist = input_data.read_data_sets('MNIST_data', one_hot=True)\n",
    "import matplotlib.pyplot as plt\n",
    "import numpy as np\n",
    "import random as ran"
   ]
  },
  {
   "cell_type": "code",
   "execution_count": 2,
   "metadata": {
    "collapsed": true
   },
   "outputs": [],
   "source": [
    "def TRAIN_SIZE(num):\n",
    "    print ('Total Training Images in Dataset = ' + str(mnist.train.images.shape))\n",
    "    print ('--------------------------------------------------')\n",
    "    x_train = mnist.train.images[:num,:]\n",
    "    print ('x_train Examples Loaded = ' + str(x_train.shape))\n",
    "    y_train = mnist.train.labels[:num,:]\n",
    "    print ('y_train Examples Loaded = ' + str(y_train.shape))\n",
    "    print('')\n",
    "    return x_train, y_train\n",
    "\n",
    "def TEST_SIZE(num):\n",
    "    print ('Total Test Examples in Dataset = ' + str(mnist.test.images.shape))\n",
    "    print ('--------------------------------------------------')\n",
    "    x_test = mnist.test.images[:num,:]\n",
    "    print ('x_test Examples Loaded = ' + str(x_test.shape))\n",
    "    y_test = mnist.test.labels[:num,:]\n",
    "    print ('y_test Examples Loaded = ' + str(y_test.shape))\n",
    "    return x_test, y_test"
   ]
  },
  {
   "cell_type": "code",
   "execution_count": 3,
   "metadata": {
    "collapsed": true
   },
   "outputs": [],
   "source": [
    "def display_digit(num):\n",
    "    print(y_train[num])\n",
    "    label = y_train[num].argmax(axis=0)\n",
    "    image = x_train[num].reshape([28,28])\n",
    "    plt.title('Example: %d  Label: %d' % (num, label))\n",
    "    plt.imshow(image, cmap=plt.get_cmap('gray_r'))\n",
    "    plt.show()\n"
   ]
  },
  {
   "cell_type": "code",
   "execution_count": 4,
   "metadata": {},
   "outputs": [
    {
     "name": "stdout",
     "output_type": "stream",
     "text": [
      "Total Training Images in Dataset = (55000, 784)\n",
      "--------------------------------------------------\n",
      "x_train Examples Loaded = (55000, 784)\n",
      "y_train Examples Loaded = (55000, 10)\n",
      "\n"
     ]
    }
   ],
   "source": [
    "x_train, y_train = TRAIN_SIZE(55000)"
   ]
  },
  {
   "cell_type": "code",
   "execution_count": 5,
   "metadata": {},
   "outputs": [
    {
     "name": "stdout",
     "output_type": "stream",
     "text": [
      "[ 0.  0.  0.  1.  0.  0.  0.  0.  0.  0.]\n"
     ]
    },
    {
     "data": {
      "image/png": "[encoded data removed]",
      "text/plain": [
       "<matplotlib.figure.Figure at 0x7f493a088f50>"
      ]
     },
     "metadata": {},
     "output_type": "display_data"
    }
   ],
   "source": [
    "display_digit(ran.randint(0, x_train.shape[0]))\n"
   ]
  },
  {
   "cell_type": "code",
   "execution_count": 6,
   "metadata": {
    "collapsed": true
   },
   "outputs": [],
   "source": [
    "import tensorflow as tf\n",
    "sess = tf.Session()\n",
    "\n",
    "#Input Data\n",
    "x = tf.placeholder(tf.float32, shape=[None, 784])\n",
    "#Label\n",
    "y_ = tf.placeholder(tf.float32, shape=[None, 10])\n",
    "\n",
    "#Model parameter\n",
    "W = tf.Variable(tf.zeros([784,10]))\n",
    "b = tf.Variable(tf.zeros([10]))\n",
    "\n",
    "# Prediction model\n",
    "y = tf.nn.softmax(tf.matmul(x,W) + b)\n",
    "\n",
    "# Cost function\n",
    "cross_entropy = tf.reduce_mean(-tf.reduce_sum(y_ * tf.log(y), reduction_indices=[1]))"
   ]
  },
  {
   "cell_type": "code",
   "execution_count": 18,
   "metadata": {},
   "outputs": [
    {
     "name": "stdout",
     "output_type": "stream",
     "text": [
      "Total Training Images in Dataset = (55000, 784)\n",
      "--------------------------------------------------\n",
      "x_train Examples Loaded = (20000, 784)\n",
      "y_train Examples Loaded = (20000, 10)\n",
      "\n",
      "Total Test Examples in Dataset = (10000, 784)\n",
      "--------------------------------------------------\n",
      "x_test Examples Loaded = (10000, 784)\n",
      "y_test Examples Loaded = (10000, 10)\n"
     ]
    }
   ],
   "source": [
    "# Load dataset\n",
    "x_train, y_train = TRAIN_SIZE(20000)\n",
    "x_test, y_test = TEST_SIZE(10000)\n",
    "LEARNING_RATE = 0.1\n",
    "TRAIN_STEPS = 2500"
   ]
  },
  {
   "cell_type": "code",
   "execution_count": 19,
   "metadata": {
    "collapsed": true
   },
   "outputs": [],
   "source": [
    "# Initialize all variables so that they can be used by our TensorFlow graph\n",
    "init = tf.global_variables_initializer()\n",
    "sess.run(init)"
   ]
  },
  {
   "cell_type": "code",
   "execution_count": 20,
   "metadata": {
    "collapsed": true
   },
   "outputs": [],
   "source": [
    "training = tf.train.GradientDescentOptimizer(LEARNING_RATE).minimize(cross_entropy)\n",
    "correct_prediction = tf.equal(tf.argmax(y,1), tf.argmax(y_,1))\n",
    "accuracy = tf.reduce_mean(tf.cast(correct_prediction, tf.float32))"
   ]
  },
  {
   "cell_type": "code",
   "execution_count": 21,
   "metadata": {},
   "outputs": [
    {
     "name": "stdout",
     "output_type": "stream",
     "text": [
      "Training Step:0  Accuracy =  0.6556  Loss = 2.19642\n",
      "Training Step:100  Accuracy =  0.8724  Loss = 0.607983\n",
      "Training Step:200  Accuracy =  0.8877  Loss = 0.488162\n",
      "Training Step:300  Accuracy =  0.8952  Loss = 0.438328\n",
      "Training Step:400  Accuracy =  0.8988  Loss = 0.409405\n",
      "Training Step:500  Accuracy =  0.9025  Loss = 0.389884\n",
      "Training Step:600  Accuracy =  0.9046  Loss = 0.375513\n",
      "Training Step:700  Accuracy =  0.9058  Loss = 0.364319\n",
      "Training Step:800  Accuracy =  0.9075  Loss = 0.355249\n",
      "Training Step:900  Accuracy =  0.9097  Loss = 0.347684\n",
      "Training Step:1000  Accuracy =  0.9103  Loss = 0.341233\n",
      "Training Step:1100  Accuracy =  0.9108  Loss = 0.335633\n",
      "Training Step:1200  Accuracy =  0.9112  Loss = 0.330705\n",
      "Training Step:1300  Accuracy =  0.9127  Loss = 0.326317\n",
      "Training Step:1400  Accuracy =  0.9126  Loss = 0.322371\n",
      "Training Step:1500  Accuracy =  0.9133  Loss = 0.318795\n",
      "Training Step:1600  Accuracy =  0.9136  Loss = 0.31553\n",
      "Training Step:1700  Accuracy =  0.9141  Loss = 0.312532\n",
      "Training Step:1800  Accuracy =  0.9147  Loss = 0.309763\n",
      "Training Step:1900  Accuracy =  0.9148  Loss = 0.307195\n",
      "Training Step:2000  Accuracy =  0.9152  Loss = 0.304802\n",
      "Training Step:2100  Accuracy =  0.9155  Loss = 0.302564\n",
      "Training Step:2200  Accuracy =  0.9152  Loss = 0.300464\n",
      "Training Step:2300  Accuracy =  0.9152  Loss = 0.298488\n",
      "Training Step:2400  Accuracy =  0.9152  Loss = 0.296623\n",
      "Training Step:2500  Accuracy =  0.9157  Loss = 0.294857\n"
     ]
    }
   ],
   "source": [
    "for i in range(TRAIN_STEPS+1):\n",
    "    sess.run(training, feed_dict={x: x_train, y_: y_train})\n",
    "    if i%100 == 0:\n",
    "        print('Training Step:' + str(i) + '  Accuracy =  ' + str(sess.run(accuracy, feed_dict={x: x_test, y_: y_test})) + '  Loss = ' + str(sess.run(cross_entropy, {x: x_train, y_: y_train})))"
   ]
  },
  {
   "cell_type": "code",
   "execution_count": 22,
   "metadata": {},
   "outputs": [
    {
     "data": {
      "image/png": "[encoded data removed]",
      "text/plain": [
       "<matplotlib.figure.Figure at 0x7f4928975650>"
      ]
     },
     "metadata": {},
     "output_type": "display_data"
    }
   ],
   "source": [
    "def display_weight(): \n",
    "    for i in range(10):\n",
    "        plt.subplot(2, 5, i+1)\n",
    "        weight = sess.run(W)[:,i]\n",
    "        plt.title(i)\n",
    "        plt.imshow(weight.reshape([28,28]), cmap=plt.get_cmap('seismic'))\n",
    "        frame1 = plt.gca()\n",
    "        frame1.axes.get_xaxis().set_visible(False)\n",
    "        frame1.axes.get_yaxis().set_visible(False)\n",
    "        \n",
    "display_weight()"
   ]
  },
  {
   "cell_type": "code",
   "execution_count": 24,
   "metadata": {},
   "outputs": [
    {
     "data": {
      "image/png": "[encoded data removed]",
      "text/plain": [
       "<matplotlib.figure.Figure at 0x7f4928a64fd0>"
      ]
     },
     "metadata": {},
     "output_type": "display_data"
    },
    {
     "data": {
      "image/png": "[encoded data removed]",
      "text/plain": [
       "<matplotlib.figure.Figure at 0x7f4928d30f10>"
      ]
     },
     "metadata": {},
     "output_type": "display_data"
    }
   ],
   "source": [
    "def display_compare(num):\n",
    "    # THIS WILL LOAD ONE TRAINING EXAMPLE\n",
    "    x_train = mnist.train.images[num,:].reshape(1,784)\n",
    "    y_train = mnist.train.labels[num,:]\n",
    "    # THIS GETS OUR LABEL AS A INTEGER\n",
    "    label = y_train.argmax()\n",
    "    # THIS GETS OUR PREDICTION AS A INTEGER\n",
    "    prediction = sess.run(y, feed_dict={x: x_train}).argmax()\n",
    "    plt.title('Prediction: %d Label: %d' % (prediction, label))\n",
    "    plt.imshow(x_train.reshape([28,28]), cmap=plt.get_cmap('gray_r'))\n",
    "    plt.show()\n",
    "    \n",
    "display_compare(ran.randint(0, 55000))\n",
    "display_compare(2)"
   ]
  },
  {
   "cell_type": "code",
   "execution_count": null,
   "metadata": {
    "collapsed": true
   },
   "outputs": [],
   "source": []
  }
 ],
 "metadata": {
  "kernelspec": {
   "display_name": "Python 2",
   "language": "python",
   "name": "python2"
  },
  "language_info": {
   "codemirror_mode": {
    "name": "ipython",
    "version": 2
   },
   "file_extension": ".py",
   "mimetype": "text/x-python",
   "name": "python",
   "nbconvert_exporter": "python",
   "pygments_lexer": "ipython2",
   "version": "2.7.13"
  }
 },
 "nbformat": 4,
 "nbformat_minor": 2
}
